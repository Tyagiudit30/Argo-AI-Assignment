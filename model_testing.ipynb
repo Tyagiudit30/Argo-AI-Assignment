{
  "nbformat": 4,
  "nbformat_minor": 0,
  "metadata": {
    "colab": {
      "provenance": []
    },
    "kernelspec": {
      "name": "python3",
      "display_name": "Python 3"
    },
    "language_info": {
      "name": "python"
    }
  },
  "cells": [
    {
      "cell_type": "markdown",
      "source": [
        "**Data Cleaning & Preprocessing**"
      ],
      "metadata": {
        "id": "F3sqbM0C2Wgk"
      }
    },
    {
      "cell_type": "code",
      "source": [
        "import pandas as pd\n",
        "\n",
        "# Load dataset\n",
        "df = pd.read_csv(\"survey.csv\")  # Change to your dataset filename\n",
        "\n",
        "# Display basic info\n",
        "print(df.info())\n",
        "print(df.head())\n"
      ],
      "metadata": {
        "colab": {
          "base_uri": "https://localhost:8080/"
        },
        "id": "8Nm0IjFi27wC",
        "outputId": "d72c583d-ff3f-4d20-9118-49541fa3acd8"
      },
      "execution_count": 1,
      "outputs": [
        {
          "output_type": "stream",
          "name": "stdout",
          "text": [
            "<class 'pandas.core.frame.DataFrame'>\n",
            "RangeIndex: 1259 entries, 0 to 1258\n",
            "Data columns (total 27 columns):\n",
            " #   Column                     Non-Null Count  Dtype \n",
            "---  ------                     --------------  ----- \n",
            " 0   Timestamp                  1259 non-null   object\n",
            " 1   Age                        1259 non-null   int64 \n",
            " 2   Gender                     1259 non-null   object\n",
            " 3   Country                    1259 non-null   object\n",
            " 4   state                      744 non-null    object\n",
            " 5   self_employed              1241 non-null   object\n",
            " 6   family_history             1259 non-null   object\n",
            " 7   treatment                  1259 non-null   object\n",
            " 8   work_interfere             995 non-null    object\n",
            " 9   no_employees               1259 non-null   object\n",
            " 10  remote_work                1259 non-null   object\n",
            " 11  tech_company               1259 non-null   object\n",
            " 12  benefits                   1259 non-null   object\n",
            " 13  care_options               1259 non-null   object\n",
            " 14  wellness_program           1259 non-null   object\n",
            " 15  seek_help                  1259 non-null   object\n",
            " 16  anonymity                  1259 non-null   object\n",
            " 17  leave                      1259 non-null   object\n",
            " 18  mental_health_consequence  1259 non-null   object\n",
            " 19  phys_health_consequence    1259 non-null   object\n",
            " 20  coworkers                  1259 non-null   object\n",
            " 21  supervisor                 1259 non-null   object\n",
            " 22  mental_health_interview    1259 non-null   object\n",
            " 23  phys_health_interview      1259 non-null   object\n",
            " 24  mental_vs_physical         1259 non-null   object\n",
            " 25  obs_consequence            1259 non-null   object\n",
            " 26  comments                   164 non-null    object\n",
            "dtypes: int64(1), object(26)\n",
            "memory usage: 265.7+ KB\n",
            "None\n",
            "             Timestamp  Age  Gender         Country state self_employed  \\\n",
            "0  2014-08-27 11:29:31   37  Female   United States    IL           NaN   \n",
            "1  2014-08-27 11:29:37   44       M   United States    IN           NaN   \n",
            "2  2014-08-27 11:29:44   32    Male          Canada   NaN           NaN   \n",
            "3  2014-08-27 11:29:46   31    Male  United Kingdom   NaN           NaN   \n",
            "4  2014-08-27 11:30:22   31    Male   United States    TX           NaN   \n",
            "\n",
            "  family_history treatment work_interfere    no_employees  ...  \\\n",
            "0             No       Yes          Often            6-25  ...   \n",
            "1             No        No         Rarely  More than 1000  ...   \n",
            "2             No        No         Rarely            6-25  ...   \n",
            "3            Yes       Yes          Often          26-100  ...   \n",
            "4             No        No          Never         100-500  ...   \n",
            "\n",
            "                leave mental_health_consequence phys_health_consequence  \\\n",
            "0       Somewhat easy                        No                      No   \n",
            "1          Don't know                     Maybe                      No   \n",
            "2  Somewhat difficult                        No                      No   \n",
            "3  Somewhat difficult                       Yes                     Yes   \n",
            "4          Don't know                        No                      No   \n",
            "\n",
            "      coworkers supervisor mental_health_interview phys_health_interview  \\\n",
            "0  Some of them        Yes                      No                 Maybe   \n",
            "1            No         No                      No                    No   \n",
            "2           Yes        Yes                     Yes                   Yes   \n",
            "3  Some of them         No                   Maybe                 Maybe   \n",
            "4  Some of them        Yes                     Yes                   Yes   \n",
            "\n",
            "  mental_vs_physical obs_consequence comments  \n",
            "0                Yes              No      NaN  \n",
            "1         Don't know              No      NaN  \n",
            "2                 No              No      NaN  \n",
            "3                 No             Yes      NaN  \n",
            "4         Don't know              No      NaN  \n",
            "\n",
            "[5 rows x 27 columns]\n"
          ]
        }
      ]
    },
    {
      "cell_type": "markdown",
      "source": [
        "Check for null values"
      ],
      "metadata": {
        "id": "DiRXuekj2hR8"
      }
    },
    {
      "cell_type": "code",
      "source": [
        "print(df.isnull().sum())"
      ],
      "metadata": {
        "colab": {
          "base_uri": "https://localhost:8080/"
        },
        "id": "KaIbr_hj2Lc3",
        "outputId": "9830c7d5-b9fd-4ec1-9a2d-d5608456c972"
      },
      "execution_count": 2,
      "outputs": [
        {
          "output_type": "stream",
          "name": "stdout",
          "text": [
            "Timestamp                       0\n",
            "Age                             0\n",
            "Gender                          0\n",
            "Country                         0\n",
            "state                         515\n",
            "self_employed                  18\n",
            "family_history                  0\n",
            "treatment                       0\n",
            "work_interfere                264\n",
            "no_employees                    0\n",
            "remote_work                     0\n",
            "tech_company                    0\n",
            "benefits                        0\n",
            "care_options                    0\n",
            "wellness_program                0\n",
            "seek_help                       0\n",
            "anonymity                       0\n",
            "leave                           0\n",
            "mental_health_consequence       0\n",
            "phys_health_consequence         0\n",
            "coworkers                       0\n",
            "supervisor                      0\n",
            "mental_health_interview         0\n",
            "phys_health_interview           0\n",
            "mental_vs_physical              0\n",
            "obs_consequence                 0\n",
            "comments                     1095\n",
            "dtype: int64\n"
          ]
        }
      ]
    },
    {
      "cell_type": "markdown",
      "source": [
        " Drop irrelevant columns"
      ],
      "metadata": {
        "id": "r5pd75Zy2lq-"
      }
    },
    {
      "cell_type": "code",
      "source": [
        "df = df.drop(columns=['Timestamp', 'comments'], errors='ignore')"
      ],
      "metadata": {
        "id": "N0my8adO2TBY"
      },
      "execution_count": 3,
      "outputs": []
    },
    {
      "cell_type": "markdown",
      "source": [
        "**Handling Missing Values**"
      ],
      "metadata": {
        "id": "BPI3EKMH2vHd"
      }
    },
    {
      "cell_type": "code",
      "source": [
        "df['self_employed'].fillna('No', inplace=True)  # Assume 'No' for missing values\n",
        "df['work_interfere'].fillna('Unknown', inplace=True)  # Replace missing with 'Unknown'"
      ],
      "metadata": {
        "colab": {
          "base_uri": "https://localhost:8080/"
        },
        "id": "S8H3AdwU3cZW",
        "outputId": "6bdd2f37-9211-453e-ad13-c1403805a126"
      },
      "execution_count": 4,
      "outputs": [
        {
          "output_type": "stream",
          "name": "stderr",
          "text": [
            "<ipython-input-4-c61d388592ee>:1: FutureWarning: A value is trying to be set on a copy of a DataFrame or Series through chained assignment using an inplace method.\n",
            "The behavior will change in pandas 3.0. This inplace method will never work because the intermediate object on which we are setting values always behaves as a copy.\n",
            "\n",
            "For example, when doing 'df[col].method(value, inplace=True)', try using 'df.method({col: value}, inplace=True)' or df[col] = df[col].method(value) instead, to perform the operation inplace on the original object.\n",
            "\n",
            "\n",
            "  df['self_employed'].fillna('No', inplace=True)  # Assume 'No' for missing values\n",
            "<ipython-input-4-c61d388592ee>:2: FutureWarning: A value is trying to be set on a copy of a DataFrame or Series through chained assignment using an inplace method.\n",
            "The behavior will change in pandas 3.0. This inplace method will never work because the intermediate object on which we are setting values always behaves as a copy.\n",
            "\n",
            "For example, when doing 'df[col].method(value, inplace=True)', try using 'df.method({col: value}, inplace=True)' or df[col] = df[col].method(value) instead, to perform the operation inplace on the original object.\n",
            "\n",
            "\n",
            "  df['work_interfere'].fillna('Unknown', inplace=True)  # Replace missing with 'Unknown'\n"
          ]
        }
      ]
    },
    {
      "cell_type": "code",
      "source": [
        "# Dropping 'state' column as it has too many missing values\n",
        "df.drop(columns=['state'], inplace=True)"
      ],
      "metadata": {
        "id": "M0-jeEMr4WOP"
      },
      "execution_count": 5,
      "outputs": []
    },
    {
      "cell_type": "markdown",
      "source": [
        "Fixing Age Column (Removing Outliers)"
      ],
      "metadata": {
        "id": "aG7qlEli4hO-"
      }
    },
    {
      "cell_type": "code",
      "source": [
        "df = df[(df['Age'] >= 18) & (df['Age'] <= 100)]\n"
      ],
      "metadata": {
        "id": "Tozjtzdo4cc3"
      },
      "execution_count": 6,
      "outputs": []
    },
    {
      "cell_type": "markdown",
      "source": [
        "**Handling Categorical Variables**"
      ],
      "metadata": {
        "id": "s-hkQ3HK4s3A"
      }
    },
    {
      "cell_type": "code",
      "source": [
        "import numpy as np\n",
        "import seaborn as sns\n",
        "import matplotlib.pyplot as plt\n",
        "from sklearn.preprocessing import LabelEncoder, OneHotEncoder\n"
      ],
      "metadata": {
        "id": "Uh03FFUL4kDv"
      },
      "execution_count": 7,
      "outputs": []
    },
    {
      "cell_type": "code",
      "source": [
        "# Label Encoding for Target Variable ('treatment' - Yes/No to 1/0)\n",
        "label_encoder = LabelEncoder()\n",
        "df['treatment'] = label_encoder.fit_transform(df['treatment'])"
      ],
      "metadata": {
        "id": "KFcQ2dnk4x_u"
      },
      "execution_count": 8,
      "outputs": []
    },
    {
      "cell_type": "code",
      "source": [
        "# One-Hot Encoding for Categorical Features\n",
        "categorical_columns = ['Gender', 'Country', 'self_employed', 'family_history', 'work_interfere',\n",
        "                       'no_employees', 'remote_work', 'tech_company', 'benefits', 'care_options',\n",
        "                       'wellness_program', 'seek_help', 'anonymity', 'leave',\n",
        "                       'mental_health_consequence', 'phys_health_consequence', 'coworkers',\n",
        "                       'supervisor', 'mental_health_interview', 'phys_health_interview',\n",
        "                       'mental_vs_physical', 'obs_consequence']\n",
        "\n",
        "df_encoded = pd.get_dummies(df, columns=categorical_columns, drop_first=True)"
      ],
      "metadata": {
        "id": "870Y8sK74_kf"
      },
      "execution_count": 9,
      "outputs": []
    },
    {
      "cell_type": "markdown",
      "source": [
        "**Final Data Summary**"
      ],
      "metadata": {
        "id": "aXdThQ1C5JVU"
      }
    },
    {
      "cell_type": "code",
      "source": [
        "print(\"Cleaned Dataset Shape:\", df_encoded.shape)\n",
        "print(df_encoded.head())"
      ],
      "metadata": {
        "colab": {
          "base_uri": "https://localhost:8080/"
        },
        "id": "9RsEuTL65Dsu",
        "outputId": "33a2c50a-82cf-40a7-d2be-9c197346dd86"
      },
      "execution_count": 10,
      "outputs": [
        {
          "output_type": "stream",
          "name": "stdout",
          "text": [
            "Cleaned Dataset Shape: (1251, 134)\n",
            "   Age  treatment  Gender_Androgyne  Gender_Cis Female  Gender_Cis Male  \\\n",
            "0   37          1             False              False            False   \n",
            "1   44          0             False              False            False   \n",
            "2   32          0             False              False            False   \n",
            "3   31          1             False              False            False   \n",
            "4   31          0             False              False            False   \n",
            "\n",
            "   Gender_Cis Man  Gender_Enby  Gender_F  Gender_Femake  Gender_Female  ...  \\\n",
            "0           False        False     False          False           True  ...   \n",
            "1           False        False     False          False          False  ...   \n",
            "2           False        False     False          False          False  ...   \n",
            "3           False        False     False          False          False  ...   \n",
            "4           False        False     False          False          False  ...   \n",
            "\n",
            "   coworkers_Yes  supervisor_Some of them  supervisor_Yes  \\\n",
            "0          False                    False            True   \n",
            "1          False                    False           False   \n",
            "2           True                    False            True   \n",
            "3          False                    False           False   \n",
            "4          False                    False            True   \n",
            "\n",
            "   mental_health_interview_No  mental_health_interview_Yes  \\\n",
            "0                        True                        False   \n",
            "1                        True                        False   \n",
            "2                       False                         True   \n",
            "3                       False                        False   \n",
            "4                       False                         True   \n",
            "\n",
            "   phys_health_interview_No  phys_health_interview_Yes  mental_vs_physical_No  \\\n",
            "0                     False                      False                  False   \n",
            "1                      True                      False                  False   \n",
            "2                     False                       True                   True   \n",
            "3                     False                      False                   True   \n",
            "4                     False                       True                  False   \n",
            "\n",
            "   mental_vs_physical_Yes  obs_consequence_Yes  \n",
            "0                    True                False  \n",
            "1                   False                False  \n",
            "2                   False                False  \n",
            "3                   False                 True  \n",
            "4                   False                False  \n",
            "\n",
            "[5 rows x 134 columns]\n"
          ]
        }
      ]
    },
    {
      "cell_type": "markdown",
      "source": [
        "# **Step 2: Model Development 🚀**"
      ],
      "metadata": {
        "id": "QgdyMowEPOdY"
      }
    },
    {
      "cell_type": "code",
      "source": [
        "from sklearn.model_selection import train_test_split\n",
        "from sklearn.ensemble import RandomForestClassifier\n",
        "from xgboost import XGBClassifier\n",
        "from sklearn.linear_model import LogisticRegression\n",
        "from sklearn.metrics import accuracy_score, precision_score, recall_score, f1_score, roc_auc_score\n",
        "import joblib"
      ],
      "metadata": {
        "id": "MiYUnGfX5OV2"
      },
      "execution_count": 11,
      "outputs": []
    },
    {
      "cell_type": "code",
      "source": [
        "X = df.drop(columns=['treatment'])  # Features\n",
        "y = df['treatment']  # Target Variable\n",
        "\n",
        "X_train, X_test, y_train, y_test = train_test_split(X, y, test_size=0.2, random_state=42, stratify=y)"
      ],
      "metadata": {
        "id": "VHia2YZn5fpv"
      },
      "execution_count": 14,
      "outputs": []
    },
    {
      "cell_type": "markdown",
      "source": [
        "Model Training & Evaluation"
      ],
      "metadata": {
        "id": "dao-y9L0PbVd"
      }
    },
    {
      "cell_type": "code",
      "source": [
        "from sklearn.ensemble import RandomForestClassifier\n",
        "from xgboost import XGBClassifier\n",
        "from sklearn.linear_model import LogisticRegression\n",
        "models = {\n",
        "        \"Random Forest\": RandomForestClassifier(random_state=42),\n",
        "        \"XGBoost\": XGBClassifier(random_state=42),\n",
        "        \"Logistic Regression\": LogisticRegression(random_state=42)\n",
        "    }\n",
        "\n",
        "trained_models = {}\n",
        "for model_name, model in models.items():\n",
        "  model.fit(X_train, y_train)\n",
        "  trained_models[model_name] = model"
      ],
      "metadata": {
        "id": "V9b7IP1ORXvL"
      },
      "execution_count": 26,
      "outputs": []
    },
    {
      "cell_type": "markdown",
      "source": [
        "**Evaluation Metrics**"
      ],
      "metadata": {
        "id": "kSnjL2RTSS1R"
      }
    },
    {
      "cell_type": "code",
      "source": [
        "from sklearn.metrics import accuracy_score, precision_score, recall_score, f1_score\n",
        "\n",
        "for model_name, model in trained_models.items():\n",
        "  y_pred = model.predict(X_test)\n",
        "  accuracy = accuracy_score(y_test, y_pred)\n",
        "  precision = precision_score(y_test, y_pred, average='weighted')  # Use 'weighted' for multi-class\n",
        "  recall = recall_score(y_test, y_pred, average='weighted')\n",
        "  f1 = f1_score(y_test, y_pred, average='weighted')\n",
        "  print(f\"Model: {model_name}\")\n",
        "  print(f\"Accuracy: {accuracy:.4f}\")\n",
        "  print(f\"Precision: {precision:.4f}\")\n",
        "  print(f\"Recall: {recall:.4f}\")\n",
        "  print(f\"F1-score: {f1:.4f}\")\n",
        "  print(\"-\" * 20)"
      ],
      "metadata": {
        "colab": {
          "base_uri": "https://localhost:8080/"
        },
        "id": "HdS2jBigRlaG",
        "outputId": "42e9b32d-1713-4243-a9ca-535af8d6c650"
      },
      "execution_count": 28,
      "outputs": [
        {
          "output_type": "stream",
          "name": "stdout",
          "text": [
            "Model: Random Forest\n",
            "Accuracy: 0.8486\n",
            "Precision: 0.8557\n",
            "Recall: 0.8486\n",
            "F1-score: 0.8477\n",
            "--------------------\n",
            "Model: XGBoost\n",
            "Accuracy: 0.8406\n",
            "Precision: 0.8436\n",
            "Recall: 0.8406\n",
            "F1-score: 0.8402\n",
            "--------------------\n",
            "Model: Logistic Regression\n",
            "Accuracy: 0.8526\n",
            "Precision: 0.8536\n",
            "Recall: 0.8526\n",
            "F1-score: 0.8524\n",
            "--------------------\n"
          ]
        }
      ]
    },
    {
      "cell_type": "markdown",
      "source": [
        "# ** Developing a Basic UI (Streamlit) and CLI Interface**"
      ],
      "metadata": {
        "id": "nRCh075VTRJH"
      }
    },
    {
      "cell_type": "code",
      "source": [
        "pip install streamlit"
      ],
      "metadata": {
        "colab": {
          "base_uri": "https://localhost:8080/"
        },
        "id": "IMqoWCQOUBuc",
        "outputId": "16f32ff4-2d51-4e5b-fcf5-633310a39c3c"
      },
      "execution_count": 29,
      "outputs": [
        {
          "output_type": "stream",
          "name": "stdout",
          "text": [
            "Collecting streamlit\n",
            "  Downloading streamlit-1.42.0-py2.py3-none-any.whl.metadata (8.9 kB)\n",
            "Requirement already satisfied: altair<6,>=4.0 in /usr/local/lib/python3.11/dist-packages (from streamlit) (5.5.0)\n",
            "Requirement already satisfied: blinker<2,>=1.0.0 in /usr/local/lib/python3.11/dist-packages (from streamlit) (1.9.0)\n",
            "Requirement already satisfied: cachetools<6,>=4.0 in /usr/local/lib/python3.11/dist-packages (from streamlit) (5.5.1)\n",
            "Requirement already satisfied: click<9,>=7.0 in /usr/local/lib/python3.11/dist-packages (from streamlit) (8.1.8)\n",
            "Requirement already satisfied: numpy<3,>=1.23 in /usr/local/lib/python3.11/dist-packages (from streamlit) (1.26.4)\n",
            "Requirement already satisfied: packaging<25,>=20 in /usr/local/lib/python3.11/dist-packages (from streamlit) (24.2)\n",
            "Requirement already satisfied: pandas<3,>=1.4.0 in /usr/local/lib/python3.11/dist-packages (from streamlit) (2.2.2)\n",
            "Requirement already satisfied: pillow<12,>=7.1.0 in /usr/local/lib/python3.11/dist-packages (from streamlit) (11.1.0)\n",
            "Requirement already satisfied: protobuf<6,>=3.20 in /usr/local/lib/python3.11/dist-packages (from streamlit) (4.25.6)\n",
            "Requirement already satisfied: pyarrow>=7.0 in /usr/local/lib/python3.11/dist-packages (from streamlit) (17.0.0)\n",
            "Requirement already satisfied: requests<3,>=2.27 in /usr/local/lib/python3.11/dist-packages (from streamlit) (2.32.3)\n",
            "Requirement already satisfied: rich<14,>=10.14.0 in /usr/local/lib/python3.11/dist-packages (from streamlit) (13.9.4)\n",
            "Requirement already satisfied: tenacity<10,>=8.1.0 in /usr/local/lib/python3.11/dist-packages (from streamlit) (9.0.0)\n",
            "Requirement already satisfied: toml<2,>=0.10.1 in /usr/local/lib/python3.11/dist-packages (from streamlit) (0.10.2)\n",
            "Requirement already satisfied: typing-extensions<5,>=4.4.0 in /usr/local/lib/python3.11/dist-packages (from streamlit) (4.12.2)\n",
            "Collecting watchdog<7,>=2.1.5 (from streamlit)\n",
            "  Downloading watchdog-6.0.0-py3-none-manylinux2014_x86_64.whl.metadata (44 kB)\n",
            "\u001b[2K     \u001b[90m━━━━━━━━━━━━━━━━━━━━━━━━━━━━━━━━━━━━━━━━\u001b[0m \u001b[32m44.3/44.3 kB\u001b[0m \u001b[31m2.5 MB/s\u001b[0m eta \u001b[36m0:00:00\u001b[0m\n",
            "\u001b[?25hRequirement already satisfied: gitpython!=3.1.19,<4,>=3.0.7 in /usr/local/lib/python3.11/dist-packages (from streamlit) (3.1.44)\n",
            "Collecting pydeck<1,>=0.8.0b4 (from streamlit)\n",
            "  Downloading pydeck-0.9.1-py2.py3-none-any.whl.metadata (4.1 kB)\n",
            "Requirement already satisfied: tornado<7,>=6.0.3 in /usr/local/lib/python3.11/dist-packages (from streamlit) (6.4.2)\n",
            "Requirement already satisfied: jinja2 in /usr/local/lib/python3.11/dist-packages (from altair<6,>=4.0->streamlit) (3.1.5)\n",
            "Requirement already satisfied: jsonschema>=3.0 in /usr/local/lib/python3.11/dist-packages (from altair<6,>=4.0->streamlit) (4.23.0)\n",
            "Requirement already satisfied: narwhals>=1.14.2 in /usr/local/lib/python3.11/dist-packages (from altair<6,>=4.0->streamlit) (1.24.1)\n",
            "Requirement already satisfied: gitdb<5,>=4.0.1 in /usr/local/lib/python3.11/dist-packages (from gitpython!=3.1.19,<4,>=3.0.7->streamlit) (4.0.12)\n",
            "Requirement already satisfied: python-dateutil>=2.8.2 in /usr/local/lib/python3.11/dist-packages (from pandas<3,>=1.4.0->streamlit) (2.8.2)\n",
            "Requirement already satisfied: pytz>=2020.1 in /usr/local/lib/python3.11/dist-packages (from pandas<3,>=1.4.0->streamlit) (2024.2)\n",
            "Requirement already satisfied: tzdata>=2022.7 in /usr/local/lib/python3.11/dist-packages (from pandas<3,>=1.4.0->streamlit) (2025.1)\n",
            "Requirement already satisfied: charset-normalizer<4,>=2 in /usr/local/lib/python3.11/dist-packages (from requests<3,>=2.27->streamlit) (3.4.1)\n",
            "Requirement already satisfied: idna<4,>=2.5 in /usr/local/lib/python3.11/dist-packages (from requests<3,>=2.27->streamlit) (3.10)\n",
            "Requirement already satisfied: urllib3<3,>=1.21.1 in /usr/local/lib/python3.11/dist-packages (from requests<3,>=2.27->streamlit) (2.3.0)\n",
            "Requirement already satisfied: certifi>=2017.4.17 in /usr/local/lib/python3.11/dist-packages (from requests<3,>=2.27->streamlit) (2024.12.14)\n",
            "Requirement already satisfied: markdown-it-py>=2.2.0 in /usr/local/lib/python3.11/dist-packages (from rich<14,>=10.14.0->streamlit) (3.0.0)\n",
            "Requirement already satisfied: pygments<3.0.0,>=2.13.0 in /usr/local/lib/python3.11/dist-packages (from rich<14,>=10.14.0->streamlit) (2.18.0)\n",
            "Requirement already satisfied: smmap<6,>=3.0.1 in /usr/local/lib/python3.11/dist-packages (from gitdb<5,>=4.0.1->gitpython!=3.1.19,<4,>=3.0.7->streamlit) (5.0.2)\n",
            "Requirement already satisfied: MarkupSafe>=2.0 in /usr/local/lib/python3.11/dist-packages (from jinja2->altair<6,>=4.0->streamlit) (3.0.2)\n",
            "Requirement already satisfied: attrs>=22.2.0 in /usr/local/lib/python3.11/dist-packages (from jsonschema>=3.0->altair<6,>=4.0->streamlit) (25.1.0)\n",
            "Requirement already satisfied: jsonschema-specifications>=2023.03.6 in /usr/local/lib/python3.11/dist-packages (from jsonschema>=3.0->altair<6,>=4.0->streamlit) (2024.10.1)\n",
            "Requirement already satisfied: referencing>=0.28.4 in /usr/local/lib/python3.11/dist-packages (from jsonschema>=3.0->altair<6,>=4.0->streamlit) (0.36.2)\n",
            "Requirement already satisfied: rpds-py>=0.7.1 in /usr/local/lib/python3.11/dist-packages (from jsonschema>=3.0->altair<6,>=4.0->streamlit) (0.22.3)\n",
            "Requirement already satisfied: mdurl~=0.1 in /usr/local/lib/python3.11/dist-packages (from markdown-it-py>=2.2.0->rich<14,>=10.14.0->streamlit) (0.1.2)\n",
            "Requirement already satisfied: six>=1.5 in /usr/local/lib/python3.11/dist-packages (from python-dateutil>=2.8.2->pandas<3,>=1.4.0->streamlit) (1.17.0)\n",
            "Downloading streamlit-1.42.0-py2.py3-none-any.whl (9.6 MB)\n",
            "\u001b[2K   \u001b[90m━━━━━━━━━━━━━━━━━━━━━━━━━━━━━━━━━━━━━━━━\u001b[0m \u001b[32m9.6/9.6 MB\u001b[0m \u001b[31m46.7 MB/s\u001b[0m eta \u001b[36m0:00:00\u001b[0m\n",
            "\u001b[?25hDownloading pydeck-0.9.1-py2.py3-none-any.whl (6.9 MB)\n",
            "\u001b[2K   \u001b[90m━━━━━━━━━━━━━━━━━━━━━━━━━━━━━━━━━━━━━━━━\u001b[0m \u001b[32m6.9/6.9 MB\u001b[0m \u001b[31m50.0 MB/s\u001b[0m eta \u001b[36m0:00:00\u001b[0m\n",
            "\u001b[?25hDownloading watchdog-6.0.0-py3-none-manylinux2014_x86_64.whl (79 kB)\n",
            "\u001b[2K   \u001b[90m━━━━━━━━━━━━━━━━━━━━━━━━━━━━━━━━━━━━━━━━\u001b[0m \u001b[32m79.1/79.1 kB\u001b[0m \u001b[31m7.3 MB/s\u001b[0m eta \u001b[36m0:00:00\u001b[0m\n",
            "\u001b[?25hInstalling collected packages: watchdog, pydeck, streamlit\n",
            "Successfully installed pydeck-0.9.1 streamlit-1.42.0 watchdog-6.0.0\n"
          ]
        }
      ]
    },
    {
      "cell_type": "code",
      "source": [
        "import streamlit as st\n",
        "import pandas as pd\n",
        "import joblib  # For loading the trained model\n",
        "\n",
        "# Save the desired model before loading\n",
        "# Assuming you want to save the Logistic Regression Model\n",
        "joblib.dump(trained_models[\"Logistic Regression\"], 'trained_model.pkl')\n",
        "\n",
        "# Load the trained model\n",
        "model = joblib.load('trained_model.pkl')  # Replace 'trained_model.pkl' with the actual model filename\n",
        "\n",
        "# ... (rest of your Streamlit app code) ..."
      ],
      "metadata": {
        "id": "4BZW2ZryUCWL"
      },
      "execution_count": 31,
      "outputs": []
    }
  ]
}